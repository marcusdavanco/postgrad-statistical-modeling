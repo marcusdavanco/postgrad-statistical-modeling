{
 "cells": [
  {
   "cell_type": "markdown",
   "id": "cd3bff9e-f38e-4538-a8c8-c872b996bcf3",
   "metadata": {},
   "source": [
    "# **BINARY LOGISTIC REGRESSION**"
   ]
  },
  {
   "cell_type": "markdown",
   "id": "5f7b5f43-62ec-4b69-b43b-a4c8167689a0",
   "metadata": {},
   "source": [
    "Importing libraries"
   ]
  },
  {
   "cell_type": "code",
   "execution_count": null,
   "id": "a1db854a-372b-458b-ad41-5e4335021cf1",
   "metadata": {},
   "outputs": [],
   "source": [
    "import numpy as np\n",
    "import pandas as pd\n",
    "import warnings\n",
    "\n",
    "# Supress warnings\n",
    "warnings.simplefilter(action='ignore', category=pd.errors.SettingWithCopyWarning)\n",
    "warnings.simplefilter(action='ignore', category=FutureWarning)"
   ]
  },
  {
   "cell_type": "code",
   "execution_count": null,
   "id": "25d1f2b0-21c3-484b-aaa9-3d3087d19736",
   "metadata": {},
   "outputs": [],
   "source": [
    "doenca_pre = pd.read_csv('../../datasets/covid_doencas_preexistentes-1.csv',\n",
    "                        sep= ';', encoding='utf-8')"
   ]
  },
  {
   "cell_type": "markdown",
   "id": "64870bab-8f12-490a-9ef7-5d1d62ef5aee",
   "metadata": {},
   "source": [
    "## **INITIAL ANALYSIS**"
   ]
  },
  {
   "cell_type": "markdown",
   "id": "2bd776f6-062a-440d-80ce-7cff87b0ab22",
   "metadata": {},
   "source": [
    "Verifying the loaded variables in the dataset.\n",
    "\n",
    "Dataset brings the information of people who were diagnosed with COVID-19 with patient profile and pre-existing diseases."
   ]
  },
  {
   "cell_type": "code",
   "execution_count": null,
   "id": "89bf4fa7-dc97-4b79-9220-53f704bf6e24",
   "metadata": {},
   "outputs": [],
   "source": [
    "doenca_pre.head()"
   ]
  },
  {
   "cell_type": "markdown",
   "id": "1cd4854e-2030-4678-b0a3-4ba5eddc853b",
   "metadata": {},
   "source": [
    "Variable Description\n",
    "* codigo_ibge: Municipality Code at IBGE (7 digits) of patient's residence.\n",
    "* nome_munic: Municipality name of patients residence.\n",
    "* idade: patient age\n",
    "* cs_sexo: patient sex\n",
    "* diagnostico_covid19: COVID-19 Confirmation\n",
    "* data_inicio_sintomas: Date of onset of symptoms\n",
    "* obito: Indicates if the patient died by COVID-19\n",
    "* asma: Patient presented this risk factor (asthma)\n",
    "* cardiopatia: Patient presented this risk factor (cardiopaty)\n",
    "* diabetes: Patient presented this risk factor (diabetes)\n",
    "* doenca_hematologica: Patient presented this risk factor (hematologic disease)\n",
    "* doenca_hepatica: Patient presented this risk factor hepatic disease)\n",
    "* doenca_neurologica: Patient presented this risk factor (neurologic disease)\n",
    "* doenca_renal: Patient presented this risk factor (renal disease)\n",
    "* imunodepressao: Patient presented this risk factor (immunodepression)\n",
    "* obesidade: Patient presented this risk factor (obesity)\n",
    "* outros_fatores_de_risco: Patient presented other risk factors\n",
    "* pneumopatia: Patient presented this risk factor (penumopatia)\n",
    "* puerpera: Patient was in this stage (postpartum)\n",
    "* sindrome_de_down: Patient presented this risk factor (down syndrome)"
   ]
  },
  {
   "cell_type": "code",
   "execution_count": null,
   "id": "c65213d9-c1ed-4b26-8c1f-aabe78ea0ee6",
   "metadata": {},
   "outputs": [],
   "source": [
    "doenca_pre.shape"
   ]
  },
  {
   "cell_type": "markdown",
   "id": "daa0cdb6-8106-4222-be1a-b64a6ac10482",
   "metadata": {},
   "source": [
    "**1st Analysis: Verify if there's a tendence of death between people from the feminine and masculine genders**"
   ]
  },
  {
   "cell_type": "code",
   "execution_count": null,
   "id": "d3adab06-0312-4f0a-82aa-89df7fe362e6",
   "metadata": {},
   "outputs": [],
   "source": [
    "from collections import Counter"
   ]
  },
  {
   "cell_type": "markdown",
   "id": "c5a2dad5-d328-4a13-b79d-400400cda20f",
   "metadata": {},
   "source": [
    "Count by variable category"
   ]
  },
  {
   "cell_type": "code",
   "execution_count": null,
   "id": "630a627a-2d2d-4a2c-acec-fa065e616aef",
   "metadata": {},
   "outputs": [],
   "source": [
    "Counter(doenca_pre.cs_sexo)"
   ]
  },
  {
   "cell_type": "code",
   "execution_count": null,
   "id": "73f0c208-aec7-4045-bbe3-591464eb156e",
   "metadata": {},
   "outputs": [],
   "source": [
    "doenca_pre['cs_sexo'].value_counts()"
   ]
  },
  {
   "cell_type": "markdown",
   "id": "bfeb69c6-d425-49d2-aea2-5ac5777049e2",
   "metadata": {},
   "source": [
    "As we'd like to compare the feminine and masculine genders, we'll disregard the remaining\n",
    "classes."
   ]
  },
  {
   "cell_type": "markdown",
   "id": "8caa8f48-6886-4929-8eac-9657913031de",
   "metadata": {},
   "source": [
    "Missing Values (NAN)"
   ]
  },
  {
   "cell_type": "code",
   "execution_count": null,
   "id": "1613fddd-147a-4667-9618-f7f02da2f39a",
   "metadata": {},
   "outputs": [],
   "source": [
    "doenca_pre.isnull().sum()"
   ]
  },
  {
   "cell_type": "markdown",
   "id": "8aba4490-f8f6-42a7-89bb-d96733f7fe0a",
   "metadata": {},
   "source": [
    "Remove the NAN values from cs_sexo"
   ]
  },
  {
   "cell_type": "code",
   "execution_count": null,
   "id": "4f5b1ce6-e44b-4dca-89ac-29d1417a58f5",
   "metadata": {},
   "outputs": [],
   "source": [
    "doenca_pre.dropna(subset=['cs_sexo'], inplace=True)"
   ]
  },
  {
   "cell_type": "markdown",
   "id": "4f62ae6e-ff6e-4fe3-8d1b-ccd33b953be0",
   "metadata": {},
   "source": [
    "Remove Ignored"
   ]
  },
  {
   "cell_type": "code",
   "execution_count": null,
   "id": "fc516231-b93e-4762-9ba1-77579445fd1d",
   "metadata": {},
   "outputs": [],
   "source": [
    "relacao = doenca_pre.loc[doenca_pre.cs_sexo != 'IGNORADO']"
   ]
  },
  {
   "cell_type": "markdown",
   "id": "4497e7ee-41dd-43bb-a7a8-f7f8af50e5c6",
   "metadata": {},
   "source": [
    "Remove Undefined"
   ]
  },
  {
   "cell_type": "code",
   "execution_count": null,
   "id": "f3786e25-b71d-45b8-818a-e6bc07021ccb",
   "metadata": {},
   "outputs": [],
   "source": [
    "relacao = relacao.loc[relacao.cs_sexo != 'INDEFINIDO']"
   ]
  },
  {
   "cell_type": "markdown",
   "id": "5f6a98c0-0374-4654-b835-affb3da32f80",
   "metadata": {},
   "source": [
    "Verifying the remaining variables that were left on the dataset."
   ]
  },
  {
   "cell_type": "code",
   "execution_count": null,
   "id": "2f554c0d-7b45-45d7-9f0c-089bd1ab3883",
   "metadata": {},
   "outputs": [],
   "source": [
    "relacao['cs_sexo'].value_counts()"
   ]
  },
  {
   "cell_type": "markdown",
   "id": "949e6f04-e5dd-40db-932c-0ed4b0b7ca7d",
   "metadata": {},
   "source": [
    "Verifying the data trough graphical analysis"
   ]
  },
  {
   "cell_type": "code",
   "execution_count": null,
   "id": "e0411ea0-fa3d-4e46-adf2-65098b19eca6",
   "metadata": {},
   "outputs": [],
   "source": [
    "import plotly.express as px\n",
    "\n",
    "px.pie(relacao, names=\"cs_sexo\")"
   ]
  },
  {
   "cell_type": "markdown",
   "id": "46a61678-3169-4a29-8c45-24bf2b54b94c",
   "metadata": {},
   "source": [
    "**Analysing the amount of deaths**"
   ]
  },
  {
   "cell_type": "code",
   "execution_count": null,
   "id": "1b6cfad9-aa11-4d28-920b-a83c12642ea1",
   "metadata": {},
   "outputs": [],
   "source": [
    "relacao.obito.value_counts()"
   ]
  },
  {
   "cell_type": "code",
   "execution_count": null,
   "id": "68b44368-b057-4f60-87b4-a709bc28d0f5",
   "metadata": {},
   "outputs": [],
   "source": [
    "px.pie(relacao, names=\"obito\")"
   ]
  },
  {
   "cell_type": "markdown",
   "id": "dd4c2195-a719-431f-b229-439e8bc5e59c",
   "metadata": {},
   "source": [
    "**Analysis of attribute classification**"
   ]
  },
  {
   "cell_type": "markdown",
   "id": "e1868c03-0151-400b-b096-f64dc0a39d35",
   "metadata": {},
   "source": [
    "Verifying how Python acknowledge the variables"
   ]
  },
  {
   "cell_type": "code",
   "execution_count": null,
   "id": "a9c1eb72-46e7-4c42-a547-5f1b3e3652f3",
   "metadata": {},
   "outputs": [],
   "source": [
    "relacao.dtypes"
   ]
  },
  {
   "cell_type": "code",
   "execution_count": null,
   "id": "18c1b4e4-d948-4e6d-aafb-472dd9eb09c4",
   "metadata": {},
   "outputs": [],
   "source": [
    "relacao['obito'] = relacao['obito'].replace({0: 'nao', 1: 'sim'})"
   ]
  },
  {
   "cell_type": "code",
   "execution_count": null,
   "id": "96262ce9-0c60-45a8-b884-52ce92225bbb",
   "metadata": {},
   "outputs": [],
   "source": [
    "relacao.head()"
   ]
  },
  {
   "cell_type": "code",
   "execution_count": null,
   "id": "4a6661dc-7831-4f7e-b5c1-1a6066b424dc",
   "metadata": {},
   "outputs": [],
   "source": [
    "relacao.dtypes"
   ]
  },
  {
   "cell_type": "code",
   "execution_count": null,
   "id": "52411f97-91f4-4653-9a87-d5f5fbd16fd2",
   "metadata": {},
   "outputs": [],
   "source": [
    "relacao.obito.value_counts()"
   ]
  },
  {
   "cell_type": "markdown",
   "id": "dacc7eba-b60f-4f98-b786-0c6f0b468c10",
   "metadata": {},
   "source": [
    "**Transforming in categoric variables**"
   ]
  },
  {
   "cell_type": "markdown",
   "id": "5e71534e-8f39-46e9-87d3-72d3dc99b262",
   "metadata": {},
   "source": [
    "Transforming the variables that are as objects in categories."
   ]
  },
  {
   "cell_type": "raw",
   "id": "d9ce9589-bcce-4097-81b7-b9f47ffca89a",
   "metadata": {},
   "source": [
    "relacao['cs_sexo'] = relacao['cs_sexo'].astype('category')"
   ]
  },
  {
   "cell_type": "code",
   "execution_count": null,
   "id": "68e7516d-2122-4263-abb1-b88cbacd6d74",
   "metadata": {},
   "outputs": [],
   "source": [
    "relacao['obito'] = relacao['obito'].astype('category')"
   ]
  },
  {
   "cell_type": "markdown",
   "id": "b56b0623-24ab-4966-b422-75eddc7f2750",
   "metadata": {},
   "source": [
    "## **Model 1: One independent variable**"
   ]
  },
  {
   "cell_type": "markdown",
   "id": "b9c57ef1-32a7-4ac6-a09d-426eb242bf04",
   "metadata": {},
   "source": [
    "We'd like to understand that if a person was diagnosed with COVID, if there's a relationship between gender and death.\n",
    "\n",
    "So, we'll have our first model with just one independent variable.\n",
    "\n",
    "**Assumptions**:\n",
    "* Dichotomic dependent variable -> Outcome variable (Y) dichotomic: Óbito - Yes or No\n",
    "* Mutually exclusive categories: The same person cannot be present in both situations\n",
    "* Independency of observations (without repeated measurements) -> The same person is only analyzed once."
   ]
  },
  {
   "cell_type": "code",
   "execution_count": null,
   "id": "6a684e24-93f1-4432-b526-8e2e99638020",
   "metadata": {},
   "outputs": [],
   "source": [
    "import statsmodels.api as sm\n",
    "import statsmodels.formula.api as smf"
   ]
  },
  {
   "cell_type": "markdown",
   "id": "f0ba9563-2004-42c0-96bd-62b2a1a7825b",
   "metadata": {},
   "source": [
    "Creation of the logistic regression model"
   ]
  },
  {
   "cell_type": "code",
   "execution_count": null,
   "id": "5da6cc8f-6dee-4179-a012-52a776c76df3",
   "metadata": {},
   "outputs": [],
   "source": [
    "modelo1 = smf.glm(formula='obito ~ cs_sexo', data=relacao, family = sm.families.Binomial()).fit()\n",
    "print(modelo1.summary())"
   ]
  },
  {
   "cell_type": "markdown",
   "id": "2ed6041d-eb61-40fd-9294-dd58d02fb918",
   "metadata": {},
   "source": [
    "### Deviance Residuals"
   ]
  },
  {
   "cell_type": "markdown",
   "id": "807f79ed-3b90-4b99-a6d4-44afb05b8fc1",
   "metadata": {},
   "source": [
    "**Tested Hypothesis:**\n",
    "\n",
    "- $H_0$: The model fits the data well.\n",
    "\n",
    "- $H_A$: The model doesn't fit the data well.\n",
    "\n",
    "**Acceptance/Rejection:**\n",
    "\n",
    "- The total deviance is compared with a chi-squared distribution with $n$ - $p$ degrees of freedom, where $n$ is the number of observation and $p$ is the number of parameters of the model.\n",
    "\n",
    "- **Acceptance of $H_0$**: If the $p$ value calculated from deviance is bigger than $\\alpha$, we accept $H_0$ and conclude that the model fits the data well.\n",
    "\n",
    "- **Rejection of $H_0$**: If the $p$ value is smaller than $\\alpha$, we reject $H_0$ and conclude that the model doesn't fit the data well."
   ]
  },
  {
   "cell_type": "code",
   "execution_count": null,
   "id": "85e1cbb2-175c-4ba9-83f5-ea37f87c87e7",
   "metadata": {},
   "outputs": [],
   "source": [
    "import statsmodels.formula.api as smf\n",
    "import matplotlib.pyplot as plt\n",
    "from scipy.stats import chi2, chisquare\n",
    "from statsmodels.graphics.regressionplots import abline_plot\n",
    "import scipy.stats as stats\n",
    "\n",
    "# Deviance test for Residuals\n",
    "deviance_test_statistic = modelo1.deviance\n",
    "deviance_df = modelo1.df_resid\n",
    "deviance_p_value = 1 - stats.chi2.cdf(deviance_test_statistic, deviance_df)\n",
    "\n",
    "print('Deviance Test for Residuals:')\n",
    "print('Test Statistic', deviance_test_statistic)\n",
    "print('Degrees of freedom', deviance_df)\n",
    "print('p value:', deviance_p_value)"
   ]
  },
  {
   "cell_type": "markdown",
   "id": "678f06dd-0be2-40a6-b9c6-5ddb1c67e598",
   "metadata": {},
   "source": [
    "## Model Suitability Tests"
   ]
  },
  {
   "cell_type": "markdown",
   "id": "38e848a8-639d-4746-be5a-7b883dda1f07",
   "metadata": {},
   "source": [
    "### 1. Pearson Chi-Square Test\n",
    "\n",
    "**Test Hypothesis:**\n",
    "\n",
    "- **$H_0$:** The model fits the data well.\n",
    "\n",
    "- **$H_a$:** The model doesn't fit the data well.\n",
    "\n",
    "**Acceptance/Rejection Condition:**\n",
    "\n",
    "- Calculates the Pearson Chi-Squared test statistic, that follows the Chi-squared distribution with **$n - p$** degrees of freedom.\n",
    "- **Acceptance of $H_0$:** If the $p$ value is bigger than $\\alpha$, we accept $H_0$ and conclude that the model fits the data well.\n",
    "- **Rejection of $H_0$:** If the $p$ value is smaller than $\\alpha$, reject $H_0$ and concluded that the model doesn't fit the data well."
   ]
  },
  {
   "cell_type": "code",
   "execution_count": null,
   "id": "1064f486-2732-4773-9292-825e93924c18",
   "metadata": {},
   "outputs": [],
   "source": [
    "# Obtaining the Pearson Residuals\n",
    "residuos_pearson = modelo1.resid_pearson\n",
    "\n",
    "# Pearson Test for the residuals\n",
    "pearson_test_statistic = np.sum(residuos_pearson**2)\n",
    "pearson_df = len(residuos_pearson) - modelo1.df_model - 1 # Adjusted degrees of freedom \n",
    "pearson_p_value = 1 - stats.chi2.cdf(pearson_test_statistic, pearson_df)\n",
    "\n",
    "print('\\nPearson Test for the residuals:')\n",
    "print('Test Statistic', pearson_test_statistic)\n",
    "print('Degrees of freedom:', pearson_df)\n",
    "print('Value of p:', pearson_p_value)"
   ]
  },
  {
   "cell_type": "markdown",
   "id": "badde34c-b894-4ea1-9791-68e0ae104707",
   "metadata": {},
   "source": [
    "### Hosmer-Lemeshow Test"
   ]
  },
  {
   "cell_type": "markdown",
   "id": "edcfe586-156c-4537-b4dc-b3f38b26d57f",
   "metadata": {},
   "source": [
    "**Tested Hypothesis:**\n",
    "\n",
    "* $H_0$: The model fits the data well (There's no meaningful difference between the observed an expected frequencies).\n",
    "\n",
    "* $H_a$: The models doesn't fit the data well (there's meaningful difference between the observed and expected frequencies).\n",
    "\n",
    "**Acceptance/Rejection Condition:**\n",
    "\n",
    "* The Hosmer-Lemeshow statistic is calculated, and it follows the chi-squared distribution with **$g - 2$** degrees of freedom, where **$g$** is the number of groups.\n",
    "\n",
    "* **Acceptance of $H_0$:** If the $p$ value is bigger than the significance level $\\alpha$ (generally 0.05), we accept **$H_0$** and conclude that the model fits the data well.\n",
    "\n",
    "* **Rejection of $H_0$:** If the $p$ value is smaller than $\\alpha$ (generally 0.05), we reject **$H_0$** and conclude that the model doesn't fits the data well.\n"
   ]
  },
  {
   "cell_type": "code",
   "execution_count": null,
   "id": "92d7b058-bb00-494a-bef5-ab8d7c810ba2",
   "metadata": {},
   "outputs": [],
   "source": [
    "def hosmer_lemeshow_test(model, g=10):\n",
    "    data = pd.DataFrame({'observed': model.model.endog, 'predicted': model.fittedvalues})\n",
    "    data['group'] = pd.qcut(data['predicted'], g, duplicates='drop')\n",
    "    grouped = data.groupby('group')\n",
    "    observed = grouped['observed'].sum()\n",
    "    expected = grouped['predicted'].sum()\n",
    "    hl_stat = ((observed - expected) ** 2 / (expected * ( 1 - expected / grouped.size()))).sum()\n",
    "    hl_p_value = chi2.sf(hl_stat, g - 2)\n",
    "    return hl_stat, hl_p_value\n",
    "\n",
    "hl_stat, hl_p_value = hosmer_lemeshow_test(modelo1)\n",
    "print(f\"Hosmer-Lemeshow Test: Stat={hl_stat}, p-value={hl_p_value}\")"
   ]
  },
  {
   "cell_type": "markdown",
   "id": "fdcdc662-32b8-4ec8-bbcf-7ded9b93ba56",
   "metadata": {},
   "source": [
    "There's no evidence that the logistc regression model is not suitable for this data."
   ]
  },
  {
   "cell_type": "code",
   "execution_count": null,
   "id": "1da9d3d8-c2fe-47b4-96ea-ec1204560e79",
   "metadata": {},
   "outputs": [],
   "source": [
    "modelo1.params"
   ]
  },
  {
   "cell_type": "markdown",
   "id": "0be5aec8-9136-476b-83bd-8a967a536ba6",
   "metadata": {},
   "source": [
    "**Observation:** As we saw, the logistic regression will return the probability of success (1), so, in this case, we're analysing the probability of occurrence of death.\n",
    "\n",
    "However we'll verify that this really occurs:"
   ]
  },
  {
   "cell_type": "code",
   "execution_count": null,
   "id": "ea729b30-a7e4-4a77-b57e-f154065a4398",
   "metadata": {},
   "outputs": [],
   "source": [
    "modelo_prova = smf.glm(formula='cs_sexo ~ obito', data=relacao, family = sm.families.Binomial()).fit()\n",
    "print(modelo_prova.summary())"
   ]
  },
  {
   "cell_type": "markdown",
   "id": "ef358012-dcc5-4236-8912-b81f3c154fbe",
   "metadata": {},
   "source": [
    "We invert the dependent variable with the independent one to check which Python is selecting in the model."
   ]
  },
  {
   "cell_type": "code",
   "execution_count": null,
   "id": "f97dd00c-a606-47db-a813-2f69a667b47e",
   "metadata": {},
   "outputs": [],
   "source": [
    "print(modelo1.summary())"
   ]
  },
  {
   "cell_type": "markdown",
   "id": "732e58d7-a00b-400c-83e1-8ac634ad625c",
   "metadata": {},
   "source": [
    "How can we take some information, intepretation from the model?\n",
    "\n",
    "We're going to use what's called odds ratio with a confidence interval of 95%:\n",
    "* Coefficient's exponential"
   ]
  },
  {
   "cell_type": "code",
   "execution_count": null,
   "id": "06b61b9b-f13a-4ad6-abd3-eba371dca6f1",
   "metadata": {},
   "outputs": [],
   "source": [
    "razao = np.exp(modelo1.params[1])\n",
    "print(razao)"
   ]
  },
  {
   "cell_type": "markdown",
   "id": "b44220d6-3664-491e-864a-71b63cbb5d64",
   "metadata": {},
   "source": [
    "Considering the Odds Ratio, we could say that the chance from a man coming to pass is 0.59 smaller in comparison to a woman."
   ]
  },
  {
   "cell_type": "markdown",
   "id": "a4c5d770-e2ea-4d27-b727-1be0d17ad9ca",
   "metadata": {},
   "source": [
    "### ROC Curve and AUC"
   ]
  },
  {
   "cell_type": "markdown",
   "id": "a4a2548a-0a01-40f3-aaa6-393298ec44b1",
   "metadata": {},
   "source": [
    "It evaluates the model's ability to discriminate between classes.\n",
    "\n",
    "**ROC Curve:** Plots the true positive rate (sensitivity) against the false positive rate (1 - specificity) for various classification threshouls. \n",
    "\n",
    "**AUC (Area Under the Curve):** A value close to 1 indicates excellent discrimination, while a value close to 0.5 indicates random discrimination. \n",
    "\n",
    "* **Model Evaluation:** A model with higher AUC is considered better at discriminating between classes."
   ]
  },
  {
   "cell_type": "code",
   "execution_count": null,
   "id": "c3662a69-8140-4738-b109-0c4cb4b88ab7",
   "metadata": {},
   "outputs": [],
   "source": [
    "from sklearn.metrics import roc_curve, auc\n",
    "\n",
    "y = relacao['obito'].replace({'nao':0, 'sim':1})\n",
    "\n",
    "# ROC Curve\n",
    "fpr, tpr, _ = roc_curve(y, modelo1.fittedvalues)\n",
    "roc_auc = auc(fpr, tpr)\n",
    "\n",
    "plt.figure()\n",
    "plt.plot(fpr, tpr, color='blue', lw=2, label='Roc curve (area = %0.2f)' % roc_auc)\n",
    "plt.plot([0, 1], [0,1], color='red', lw=2, linestyle='--')\n",
    "plt.xlim([0.0, 1.0])\n",
    "plt.ylim([0.0, 1.05])\n",
    "plt.xlabel('False Positive Rate')\n",
    "plt.ylabel('True Positive Rate')\n",
    "plt.title('ROC Curve')\n",
    "plt.legend(loc='lower right')\n",
    "plt.show()"
   ]
  },
  {
   "cell_type": "markdown",
   "id": "01ad1683-b864-4100-b2b3-40adece071e0",
   "metadata": {},
   "source": [
    "## **Model 2: One more independent variable**"
   ]
  },
  {
   "cell_type": "markdown",
   "id": "02b3e598-d550-4426-b922-0e5a121ad28a",
   "metadata": {},
   "source": [
    "Now we'd like to model the death in relation with the person having diabetes and their genre."
   ]
  },
  {
   "cell_type": "code",
   "execution_count": null,
   "id": "806168ab-1ce4-42b1-b802-6825cd176f2d",
   "metadata": {},
   "outputs": [],
   "source": [
    "import statsmodels.api as sm\n",
    "import statsmodels.formula.api as smf"
   ]
  },
  {
   "cell_type": "code",
   "execution_count": null,
   "id": "cdf86405-233a-4df9-b37d-b89583de8b21",
   "metadata": {},
   "outputs": [],
   "source": [
    "relacao['diabetes'].value_counts()"
   ]
  },
  {
   "cell_type": "code",
   "execution_count": null,
   "id": "63fab1ae-bdf6-4c4f-800a-c7234580ab5d",
   "metadata": {},
   "outputs": [],
   "source": [
    "import plotly.express as px\n",
    "\n",
    "px.pie(relacao, names='diabetes')"
   ]
  },
  {
   "cell_type": "markdown",
   "id": "7ccd283a-eb79-485d-a1a4-e9af57b18d4c",
   "metadata": {},
   "source": [
    "It's observed a high number of ignored. In this cases we should be more caregul because of the missing data.\n",
    "\n",
    "It's always necessary to avaliate if by removing this data we wouldn't alter the proportion of this set of data."
   ]
  },
  {
   "cell_type": "code",
   "execution_count": null,
   "id": "39c12e92-c0c5-437e-a406-8be1c874a979",
   "metadata": {},
   "outputs": [],
   "source": [
    "relacao2 = relacao.loc[relacao.diabetes != 'IGNORADO']"
   ]
  },
  {
   "cell_type": "code",
   "execution_count": null,
   "id": "f6df2dd9-57ef-4233-8ffe-654540414508",
   "metadata": {},
   "outputs": [],
   "source": [
    "px.pie(relacao2, names='diabetes')"
   ]
  },
  {
   "cell_type": "markdown",
   "id": "d3da4c81-50bc-4db2-8248-d5d2609991d5",
   "metadata": {},
   "source": [
    "Analyzing the death proportion **before** the exclusion of ignored in diabetes"
   ]
  },
  {
   "cell_type": "code",
   "execution_count": null,
   "id": "c540443f-82f1-41de-a721-afa71182ee4f",
   "metadata": {},
   "outputs": [],
   "source": [
    "px.pie(relacao, names='obito')"
   ]
  },
  {
   "cell_type": "markdown",
   "id": "4a8f4a7b-086d-4866-96a6-65d4a73dfb0a",
   "metadata": {},
   "source": [
    "Analyzing the proportion of death **after** the removal of the ignored in diabetes"
   ]
  },
  {
   "cell_type": "code",
   "execution_count": null,
   "id": "d90e0955-1bde-46c1-aa16-9f475fc302a8",
   "metadata": {},
   "outputs": [],
   "source": [
    "# After the removal of ignored in diabetes\n",
    "px.pie(relacao2, names='obito')"
   ]
  },
  {
   "cell_type": "code",
   "execution_count": null,
   "id": "8b26eecd-ad93-4a94-a9e8-0987646b9212",
   "metadata": {},
   "outputs": [],
   "source": [
    "relacao2.dtypes"
   ]
  },
  {
   "cell_type": "code",
   "execution_count": null,
   "id": "8836b6a7-d828-4f8d-b291-468e7a08ac37",
   "metadata": {},
   "outputs": [],
   "source": [
    "relacao2['diabetes']"
   ]
  },
  {
   "cell_type": "code",
   "execution_count": null,
   "id": "cc427e08-ebc9-4973-8684-2b8a2cf60c89",
   "metadata": {},
   "outputs": [],
   "source": [
    "relacao2['diabetes'] = relacao2['diabetes'].astype('category')"
   ]
  },
  {
   "cell_type": "code",
   "execution_count": null,
   "id": "bc436ac7-cc8a-4107-af4d-b6882a98da45",
   "metadata": {},
   "outputs": [],
   "source": [
    "relacao2.dtypes"
   ]
  },
  {
   "cell_type": "markdown",
   "id": "3d65dcf0-0c99-42f0-bb5f-5e56830dd1ef",
   "metadata": {},
   "source": [
    "### **Criação do modelo 2***"
   ]
  },
  {
   "cell_type": "markdown",
   "id": "c0bf2714-eaa6-4af8-810f-23e8d29bf3a9",
   "metadata": {},
   "source": [
    "**Análise do modelo:**\n",
    "\n",
    "* Verify the significance of the coefficients:\n",
    "\n",
    "    * Statistically significative: p <= 0,05\n",
    "    * Statistically not significative p > 0,05\n",
    "* Analysis of the abscence of Outliers and Leverage Points\n",
    "\n",
    "    * It should be between -3 and 3\n",
    "* Abscence of Multicolinearity between the independent variables"
   ]
  },
  {
   "cell_type": "code",
   "execution_count": null,
   "id": "bdd95afe-ecbc-40fc-b102-176711336b2e",
   "metadata": {},
   "outputs": [],
   "source": [
    "modelo2 = smf.glm(formula='obito ~cs_sexo + diabetes', data=relacao2, family=sm.families.Binomial()).fit()\n",
    "print(modelo2.summary())"
   ]
  },
  {
   "cell_type": "markdown",
   "id": "803ca9dd-c988-4dd7-95f9-79df1ca66464",
   "metadata": {},
   "source": [
    "### Deviance Residuals\n",
    "\n",
    "**Tested Hypothesis**\n",
    "\n",
    "- $H_0$: The model fits the data well.\n",
    "\n",
    "- $H_a$: The model does not fit the data well.\n",
    "\n",
    "**Acceptance/Rejection Condition:**\n",
    "\n",
    "- The total deviance is compared with a chi-squared distribution with $n - p$ degrees of freedom, where $n$ is the number of observations and $p$ is the number of parameters of the model.\n",
    "\n",
    "- **Acceptance of** $H_0$: If the $p$ value calculated from the deviance is bigger than $\\alpha$, we accept $H_0$ and conclude that the model fits the data well\n",
    "\n",
    "- **Rejection of** $H_0$: If the $p$ value is smaller than $\\alpha$, we reject $H_0$ and conclude that the model does not fit the data well."
   ]
  },
  {
   "cell_type": "code",
   "execution_count": null,
   "id": "a5fcfc19-958d-4e9f-b8a4-620b3bd0f3e8",
   "metadata": {},
   "outputs": [],
   "source": [
    "# Deviance Test for the residuals\n",
    "deviance_test_statistic = modelo2.deviance\n",
    "deviance_df = modelo2.df_resid\n",
    "deviance_p_value = 1 - stats.chi2.cdf(deviance_test_statistic, deviance_df)\n",
    "\n",
    "print('Deviance test for residuals')\n",
    "print('Test statistic', deviance_test_statistic)\n",
    "print('Degrees of freedom:', deviance_df)\n",
    "print('P Value', deviance_p_value)"
   ]
  },
  {
   "cell_type": "markdown",
   "id": "4be348ee-d3b3-4e8f-9048-4297480a6225",
   "metadata": {},
   "source": [
    "### Pearson Chi-Square Test\n",
    "\n",
    "**Tested Hypothesis:**\n",
    "\n",
    "- $H_0$: The model fits the data well.\n",
    "\n",
    "- $H_a$: The model does not fit the data well.\n",
    "\n",
    "**Acceptance/Rejection Condition:**\n",
    "\n",
    "- The Pearson's Chi-Squared test statistic is calculated, and it follows the chi-squared distribution with $n - p$ degrees of freedom.\n",
    "\n",
    "- **Acceptance of** $H_0$: If the $p$ value is bigger than $\\alpha$, we accept $H_0$ and conclude that the model fits the data well.\n",
    "\n",
    "- **Rejection of** $H_0$: If the $p$ value is smaller than $\\alpha$, we reject $H_0$ and conclude that the model does not fit the data well."
   ]
  },
  {
   "cell_type": "code",
   "execution_count": null,
   "id": "e4d8dab2-6aef-430d-93c3-fdb0a8ea7424",
   "metadata": {},
   "outputs": [],
   "source": [
    "# Obtaining the Pearson Residuals\n",
    "residuos_pearson = modelo2.resid_pearson\n",
    "\n",
    "# Pearson test for the residuals\n",
    "pearson_test_statstic = np.sum(residuos_pearson**2)\n",
    "pearson_df = len(residuos_pearson) - modelo2.df_model - 1 # Adjusted degrees of freedom\n",
    "pearson_p_value = 1 - stats.chi2.cdf(pearson_test_statistic, pearson_df)\n",
    "\n",
    "print('\\nPearson Test for the residuals:')\n",
    "print('Test Statistic', pearson_test_statistic)\n",
    "print('Degrees of freedom:', pearson_df)\n",
    "print('P Value:', pearson_p_value)"
   ]
  },
  {
   "cell_type": "code",
   "execution_count": null,
   "id": "22b85be9-72d8-412d-b50f-aabb6638812a",
   "metadata": {},
   "outputs": [],
   "source": [
    "modelo2.params"
   ]
  },
  {
   "cell_type": "code",
   "execution_count": null,
   "id": "e95357dd-5e4e-4f9e-abd4-0f4d7a19b186",
   "metadata": {},
   "outputs": [],
   "source": [
    "print(np.exp(modelo2.params[2]))"
   ]
  },
  {
   "cell_type": "markdown",
   "id": "6b592dc0-5544-4d84-bb7f-7fecb6cb40e6",
   "metadata": {},
   "source": [
    "**Model Comparison**"
   ]
  },
  {
   "cell_type": "code",
   "execution_count": null,
   "id": "2b0f1e3f-d844-46f4-ba70-b12cad51e286",
   "metadata": {},
   "outputs": [],
   "source": [
    "# Calculate the difference of the log-likelihoods\n",
    "diff_ll = modelo2.llf - modelo1.llf\n",
    "\n",
    "# Calculate the number of degrees of freedom (number of the additional parameters added on model 2)\n",
    "df = modelo2.df_model - modelo1.df_model\n",
    "\n",
    "# Make the log-likelihood ratio test\n",
    "p_value = 1 - stats.chi2.cdf(diff_ll, df)\n",
    "\n",
    "# Print the test result\n",
    "print('Likelihood Ratio test:')\n",
    "print('Test Statistic', diff_ll)\n",
    "print('Degrees of freedom:', df)\n",
    "print('p Value:', p_value)\n"
   ]
  },
  {
   "cell_type": "markdown",
   "id": "dd9d5e18-aa5c-4e12-96f8-678b6dcfc8f7",
   "metadata": {},
   "source": [
    "### ROC Curve and AUC"
   ]
  },
  {
   "cell_type": "markdown",
   "id": "0e60bcaa-695b-4a72-b442-abc7cff1b8da",
   "metadata": {},
   "source": [
    "Evaluates the capacity of this model to discriminate between classes\n",
    "\n",
    "- **ROC Curve:** Plots the ratio of true positives (sensitivity) agains the ratio of false positives (1 - specificity) for multiple classification thresholds.\n",
    "\n",
    "- **AUC (Area Under the Curve):** A value close to 1 indicates excellent discrimination.\n",
    "\n",
    "- **Model Evaluation:** A model with higher AUC is considered better at discriminating between classes."
   ]
  },
  {
   "cell_type": "code",
   "execution_count": null,
   "id": "dbba27bc-a93a-437c-b276-d0209a9fc08d",
   "metadata": {},
   "outputs": [],
   "source": [
    "from sklearn.metrics import roc_curve, auc\n",
    "\n",
    "y = relacao2['obito'].replace({'nao':0, 'sim':1})\n",
    "\n",
    "# ROC Curve\n",
    "fpr, tpr, _ = roc_curve(y, modelo2.fittedvalues)\n",
    "roc_auc = auc(fpr, tpr)\n",
    "\n",
    "plt.figure()\n",
    "plt.plot(fpr, tpr, color='blue', lw=2, label='ROC curve (area = %0.2f)' % roc_auc)\n",
    "plt.plot([0, 1], [0, 1], color='red', lw=2, linestyle='--')\n",
    "plt.xlim([0.0, 1.0])\n",
    "plt.ylim([0.0, 1.05])\n",
    "plt.xlabel('False Positive Rate')\n",
    "plt.ylabel('True Positive Rate')\n",
    "plt.title('ROC Curve')\n",
    "plt.legend(loc='lower right')\n",
    "plt.show()"
   ]
  },
  {
   "cell_type": "markdown",
   "id": "86ebf312-1e60-47a2-b4f8-8c8d659cdf95",
   "metadata": {},
   "source": [
    "## **Model 3: Independent numeric variable**"
   ]
  },
  {
   "cell_type": "markdown",
   "id": "370e3a10-9ad2-461a-a6e0-fc07c9049367",
   "metadata": {},
   "source": [
    "Relationship of the person dying with its age. Let's make an analysis for the city of Santos and test other city."
   ]
  },
  {
   "cell_type": "code",
   "execution_count": null,
   "id": "aa3291b9-a886-4883-9dc0-e830dff14efc",
   "metadata": {},
   "outputs": [],
   "source": [
    "relacao3 = doenca_pre.loc[doenca_pre.nome_munic == 'Santos']"
   ]
  },
  {
   "cell_type": "code",
   "execution_count": null,
   "id": "23256b71-7fd3-4ff3-9db4-364afa64d607",
   "metadata": {},
   "outputs": [],
   "source": [
    "relacao3.head()"
   ]
  },
  {
   "cell_type": "markdown",
   "id": "53aefff4-0081-4be0-baf7-28d56ba97814",
   "metadata": {},
   "source": [
    "Verifying the dimensions in our data table"
   ]
  },
  {
   "cell_type": "code",
   "execution_count": null,
   "id": "4b5a15b6-589c-42ed-8927-5c6d985b4c4f",
   "metadata": {},
   "outputs": [],
   "source": [
    "relacao3.shape"
   ]
  },
  {
   "cell_type": "markdown",
   "id": "e5bd36c0-1769-424d-b054-0b4e9f76c7b0",
   "metadata": {},
   "source": [
    "Verify how it interpreted the age"
   ]
  },
  {
   "cell_type": "code",
   "execution_count": null,
   "id": "7eec062e-2e85-4700-810b-cff030f7feec",
   "metadata": {},
   "outputs": [],
   "source": [
    "relacao3.dtypes"
   ]
  },
  {
   "cell_type": "markdown",
   "id": "ca8175d5-e51a-4871-b0b6-de54287aad58",
   "metadata": {},
   "source": [
    "Valores Missing (NAN)"
   ]
  },
  {
   "cell_type": "code",
   "execution_count": null,
   "id": "ccde41e7-859d-4653-a608-3bc54743c575",
   "metadata": {},
   "outputs": [],
   "source": [
    "relacao3.isnull().sum()"
   ]
  },
  {
   "cell_type": "code",
   "execution_count": null,
   "id": "9cb22d12-18ec-4190-82fe-04e8508c4492",
   "metadata": {},
   "outputs": [],
   "source": [
    "relacao3.dropna(subset=['idade'], inplace=True)"
   ]
  },
  {
   "cell_type": "markdown",
   "id": "9316f4a4-7aff-41b4-a751-3d4bbfbe2745",
   "metadata": {},
   "source": [
    "Verifying the relationship between age and death with a dispersion chart"
   ]
  },
  {
   "cell_type": "code",
   "execution_count": null,
   "id": "7be36436-25a1-4811-8d37-83a5f81e3ce9",
   "metadata": {},
   "outputs": [],
   "source": [
    "import matplotlib.pyplot as plt\n",
    "plt.scatter(relacao3.idade, relacao3.obito)\n",
    "plt.xlabel('IDADE')\n",
    "plt.ylabel('ÓBITO')\n",
    "plt.grid(False)\n",
    "plt.show()"
   ]
  },
  {
   "cell_type": "markdown",
   "id": "1bd4414d-eb76-4c2d-8ae4-287df87f2ee8",
   "metadata": {},
   "source": [
    "**Correlationship**"
   ]
  },
  {
   "cell_type": "markdown",
   "id": "ccd8c48f-606d-413e-9bf7-e3fec7db4731",
   "metadata": {},
   "source": [
    "There's no multicolinearity -> weak correlationshop"
   ]
  },
  {
   "cell_type": "code",
   "execution_count": null,
   "id": "ef2d4237-495d-4c19-93c5-54ffa1bedebd",
   "metadata": {},
   "outputs": [],
   "source": [
    "np.corrcoef(relacao3.obito, relacao3.idade)"
   ]
  },
  {
   "cell_type": "markdown",
   "id": "c722acfa-3996-4362-a04f-b98927f106c2",
   "metadata": {},
   "source": [
    "### **Criation of model 3 with StatsModels**"
   ]
  },
  {
   "cell_type": "code",
   "execution_count": null,
   "id": "96c53ba8-6c1a-4687-beb5-ea12f99d85fc",
   "metadata": {},
   "outputs": [],
   "source": [
    "import statsmodels.api as sm\n",
    "import statsmodels.formula.api as smf"
   ]
  },
  {
   "cell_type": "code",
   "execution_count": null,
   "id": "413c47bd-5780-4ee8-8970-c26820a91346",
   "metadata": {},
   "outputs": [],
   "source": [
    "modelo3 = smf.glm(formula='obito ~ idade', data=relacao3, family = sm.families.Binomial()).fit()\n",
    "print(modelo3.summary())"
   ]
  },
  {
   "cell_type": "markdown",
   "id": "9f0e04c2-0d94-492f-bd07-d216825537eb",
   "metadata": {},
   "source": [
    "**Model Analysis**\n",
    "\n",
    "* Verify coefficient significance (Wald Test):\n",
    "\n",
    "    * Statistically significant: p <= 0,05\n",
    "    * Statistically not significant: p > 0,05\n",
    "* Residual Analysis"
   ]
  },
  {
   "cell_type": "markdown",
   "id": "d064dd46-9d02-40b4-a071-ca1ea21573d4",
   "metadata": {},
   "source": [
    "### Deviance Residuals\n",
    "\n",
    "**Tested Hypothesis**\n",
    "\n",
    "- $H_0$: The model fits the data well.\n",
    "\n",
    "- $H_a$: The model does not adjust the data well.\n",
    "\n",
    "**Acceptance/Rejection Condition:**\n",
    "\n",
    "- The total deviance is compared with a chi-squared distribution with $n - p$ degrees of freedom, where $n$ is the number of observations and $p$ is the number of parameters of the model.\n",
    "\n",
    "- **Acceptance of** $H_0$: If the $p$ value calculated from the deviance is bigger than $\\alpha$, we accept $H_0$ and concluded that the model fits the data well.\n",
    "\n",
    "- **Rejection of** $H_0$: If the $p$ value is smaller than $zalpha$, reject $H_0$ and concluded that the model does not fit the data well."
   ]
  },
  {
   "cell_type": "code",
   "execution_count": null,
   "id": "8675973e-579f-46b5-b783-c58ca870496e",
   "metadata": {},
   "outputs": [],
   "source": [
    "deviance_test_statistic = modelo3.deviance\n",
    "deviance_df = modelo3.df_resid\n",
    "deviance_p_value = 1 - stats.chi2.cdf(deviance_test_statistic, deviance_df)\n",
    "\n",
    "print('Deviance Test for residuals:')\n",
    "print('Test Statistics', deviance_test_statistic)\n",
    "print('Degrees of Freedom', deviance_df)\n",
    "print('p Value:', deviance_p_value)"
   ]
  },
  {
   "cell_type": "markdown",
   "id": "1139e5b4-adb5-4f30-b472-9a81f091a189",
   "metadata": {},
   "source": [
    "### Pearson Chi-Square Test\n",
    "\n",
    "**Tested Hypothesis**\n",
    "\n",
    "- $H_0$: The model fits the data well.\n",
    "\n",
    "- $H_a$: The model does not fit the data well.\n",
    "\n",
    "**Acceptance/Rejection Condition:**\n",
    "\n",
    "- Calculates the Pearson's chi-squared statistic, that follows a chi-squared distribution with $n - p$ degrees of freedom.\n",
    "\n",
    "- **Acceptance of** $H_0$: If the $p$ value is bigger than $\\alpha$, we accept $H_0$ and concluded that the model fits the data well.\n",
    "\n",
    "- **Rejection of** $H_0$: If the $p$ value is smaller than $\\alpha$, we reject the $H_0$ and concluded that the model does not adjust the data well."
   ]
  },
  {
   "cell_type": "code",
   "execution_count": null,
   "id": "2743304d-4787-4442-bf83-de6633aba889",
   "metadata": {},
   "outputs": [],
   "source": [
    "# Getting the Pearson Residuals\n",
    "residuos_pearson = modelo3.resid_pearson\n",
    "\n",
    "# Pearson Test for Residuals\n",
    "pearson_test_statistic = np.sum(residuos_pearson**2)\n",
    "pearson_df = len(residuos_pearson) - modelo3.df_model - 1 # Adjusted degrees of freedom\n",
    "pearson_p_value = 1 - stats.chi2.cdf(pearson_test_statistic, pearson_df)\n",
    "\n",
    "print('\\nPearson Test for the residuals:')\n",
    "print('Test Statistic:', pearson_test_statistic)\n",
    "print('Degrees of freedom:', pearson_df)\n",
    "print('p Value:', pearson_p_value)"
   ]
  },
  {
   "cell_type": "markdown",
   "id": "1a81924b-a51f-4c30-837d-ef8b007c78e9",
   "metadata": {},
   "source": [
    "### Coefficient Intepretation"
   ]
  },
  {
   "cell_type": "code",
   "execution_count": null,
   "id": "5ccdd398-7832-4a9d-8825-709778d6e441",
   "metadata": {},
   "outputs": [],
   "source": [
    "# Odd Ratio with a confidence interval of 95%\n",
    "print(np.exp(modelo3.params[1]))"
   ]
  },
  {
   "cell_type": "markdown",
   "id": "a32bf836-1850-4eae-877f-37e45c236d09",
   "metadata": {},
   "source": [
    "### ROC Curve and AUC"
   ]
  },
  {
   "cell_type": "markdown",
   "id": "ad786622-09b6-46d6-a833-e588e622410d",
   "metadata": {},
   "source": [
    "Evaluates the capacity of the model to discriminate between classes.\n",
    "\n",
    "- **ROC Curve:** Plots the rate of true positives (sensitivity) against the rate of false positives (1 - specificity) for various classification thresholds. \n",
    "\n",
    "- **AUC (Area Under the Curve):** A value close to 0.5 indicates random discrimination.\n",
    "\n",
    "- **Model Evaluation:** The model with higher AUC is considered better at discriminating between classes.\n"
   ]
  },
  {
   "cell_type": "code",
   "execution_count": null,
   "id": "2b078f5c-e0df-427a-8d53-c7207c4e9e90",
   "metadata": {},
   "outputs": [],
   "source": [
    "y = relacao3['obito'].replace({'nao':0, 'sim':1})\n",
    "\n",
    "# ROC Curve\n",
    "fpr, tpr, _ = roc_curve(y, modelo3.fittedvalues)\n",
    "roc_auc = auc(fpr, tpr)\n",
    "\n",
    "plt.figure()\n",
    "plt.plot(fpr, tpr, color='blue', lw=2, label='ROC curve (area = %0.2f)' % roc_auc)\n",
    "plt.plot([0, 1], [0, 1], color='red', lw=2, linestyle='--')\n",
    "plt.xlim([0.0, 1.0])\n",
    "plt.ylim([0.0, 1.05])\n",
    "plt.xlabel('False Positive Rate')\n",
    "plt.ylabel('True Positive Rate')\n",
    "plt.title('ROC Curve')\n",
    "plt.legend(loc='lower right')\n",
    "plt.show()\n"
   ]
  },
  {
   "cell_type": "markdown",
   "id": "01825d53-a820-4fcc-be5b-421170b58a52",
   "metadata": {},
   "source": [
    "### **Creation of model 3 with Sklearn**"
   ]
  },
  {
   "cell_type": "code",
   "execution_count": null,
   "id": "0dda672a-2ab6-404e-9820-72c6a3c767b4",
   "metadata": {},
   "outputs": [],
   "source": [
    "from sklearn.linear_model import LogisticRegression"
   ]
  },
  {
   "cell_type": "code",
   "execution_count": null,
   "id": "88853b0c-5795-4fb4-8faf-33dcf0e26f17",
   "metadata": {},
   "outputs": [],
   "source": [
    "relacao3.head()"
   ]
  },
  {
   "cell_type": "markdown",
   "id": "04d55c6a-24ff-48eb-8dbc-2902c2d17aa4",
   "metadata": {},
   "source": [
    "There's a difference in how information is structured between the SKlearn and Statsmodels libraries.\n",
    "\n",
    "In Statsmodels, we define the formula as Y ~ X.\n",
    "\n",
    "In contrast, with SKlearn, we need to manually create the independent (X) and dependent (y) variables. \n",
    "\n",
    "Additionally, in SKlearn, we often need to transform the independent variable X into a matrix format before fitting the model."
   ]
  },
  {
   "cell_type": "code",
   "execution_count": null,
   "id": "3a974982-5a66-457f-8e18-d465d71c0319",
   "metadata": {},
   "outputs": [],
   "source": [
    "x = relacao3.iloc[:, 2].values\n",
    "y = relacao3.iloc[:, 6].values"
   ]
  },
  {
   "cell_type": "code",
   "execution_count": null,
   "id": "240ffe18-1737-42ba-a352-8113d563938c",
   "metadata": {},
   "outputs": [],
   "source": [
    "x"
   ]
  },
  {
   "cell_type": "code",
   "execution_count": null,
   "id": "0b73470e-d97d-4ae5-91e3-059238ba1f01",
   "metadata": {},
   "outputs": [],
   "source": [
    "y"
   ]
  },
  {
   "cell_type": "markdown",
   "id": "71e919ad-12e2-45f5-acc6-8708b67f4f23",
   "metadata": {},
   "source": [
    "Transforming X to matrix:"
   ]
  },
  {
   "cell_type": "code",
   "execution_count": null,
   "id": "54b714c4-2a02-4078-915a-e0a2e6c158df",
   "metadata": {},
   "outputs": [],
   "source": [
    "x = x.reshape(-1,1)\n",
    "x"
   ]
  },
  {
   "cell_type": "markdown",
   "id": "091cb81a-1af6-4d82-affc-07d82b3ae514",
   "metadata": {},
   "source": [
    "Fitting the model"
   ]
  },
  {
   "cell_type": "code",
   "execution_count": null,
   "id": "e5486af3-017c-4107-b2dd-d02a30629c67",
   "metadata": {},
   "outputs": [],
   "source": [
    "modelo3s = LogisticRegression()\n",
    "modelo3s.fit(x, y)"
   ]
  },
  {
   "cell_type": "markdown",
   "id": "e5b583c3-e83b-40b9-938b-6edd0a79cc3b",
   "metadata": {},
   "source": [
    "Verifying the model's coefficient"
   ]
  },
  {
   "cell_type": "code",
   "execution_count": null,
   "id": "2fc099f5-c76d-4bd0-9e74-13d2265e17f8",
   "metadata": {},
   "outputs": [],
   "source": [
    "modelo3s.coef_"
   ]
  },
  {
   "cell_type": "markdown",
   "id": "c580f2c7-ed4e-4133-8f37-3e6f0291b8de",
   "metadata": {},
   "source": [
    "Verifying the intercept"
   ]
  },
  {
   "cell_type": "code",
   "execution_count": null,
   "id": "46aa955e-635b-4241-92f8-c9e4405ae3c4",
   "metadata": {},
   "outputs": [],
   "source": [
    "modelo3s.intercept_"
   ]
  },
  {
   "cell_type": "markdown",
   "id": "7cbcf383-3ed4-44e6-9847-fd0770ee24cc",
   "metadata": {},
   "source": [
    "Odds Ratio with confidence interval of 95%"
   ]
  },
  {
   "cell_type": "code",
   "execution_count": null,
   "id": "b1548b26-da15-496d-b308-1c32c7364fad",
   "metadata": {},
   "outputs": [],
   "source": [
    "np.exp(modelo3s.coef_)"
   ]
  },
  {
   "cell_type": "markdown",
   "id": "07182adf-0c96-48d1-9801-b29819776578",
   "metadata": {},
   "source": [
    "CONCLUSION:\n",
    "\n",
    "For each year older, an individual increases is chance of dying in 1,12.\n",
    "\n",
    "Making the chart using the sigmoid function."
   ]
  },
  {
   "cell_type": "code",
   "execution_count": null,
   "id": "079631bb-3b27-4a8e-ac74-4c604b028a77",
   "metadata": {},
   "outputs": [],
   "source": [
    "plt.scatter(x, y)\n",
    "# Generation of new data to load the sigmoid fn\n",
    "x_teste = np.linspace(0, 130, 100)\n",
    "\n",
    "def model(w): # sigmoid function\n",
    "    return 1 / (1 + np.exp(-w))\n",
    "\n",
    "# Generation of predictions (r variable) and result visualization\n",
    "previsao = model(x_teste * modelo3s.coef_ + modelo3s.intercept_).ravel()\n",
    "plt.plot(x_teste, previsao, color = 'red')"
   ]
  },
  {
   "cell_type": "code",
   "execution_count": null,
   "id": "0bbc9529-50d2-48cf-a3e3-9ad02e343a91",
   "metadata": {},
   "outputs": [],
   "source": []
  }
 ],
 "metadata": {
  "kernelspec": {
   "display_name": "Python 3 (ipykernel)",
   "language": "python",
   "name": "python3"
  },
  "language_info": {
   "codemirror_mode": {
    "name": "ipython",
    "version": 3
   },
   "file_extension": ".py",
   "mimetype": "text/x-python",
   "name": "python",
   "nbconvert_exporter": "python",
   "pygments_lexer": "ipython3",
   "version": "3.13.2"
  }
 },
 "nbformat": 4,
 "nbformat_minor": 5
}
